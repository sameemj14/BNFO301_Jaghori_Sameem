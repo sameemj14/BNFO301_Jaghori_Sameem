{
  "nbformat": 4,
  "nbformat_minor": 0,
  "metadata": {
    "colab": {
      "name": "Lab5_concensus.ipynb",
      "provenance": [],
      "include_colab_link": true
    },
    "kernelspec": {
      "name": "python3",
      "display_name": "Python 3"
    },
    "language_info": {
      "name": "python"
    }
  },
  "cells": [
    {
      "cell_type": "markdown",
      "metadata": {
        "id": "view-in-github",
        "colab_type": "text"
      },
      "source": [
        "<a href=\"https://colab.research.google.com/github/sameemj14/BNFO301_Jaghori_Sameem/blob/main/Lab5_concensus.ipynb\" target=\"_parent\"><img src=\"https://colab.research.google.com/assets/colab-badge.svg\" alt=\"Open In Colab\"/></a>"
      ]
    },
    {
      "cell_type": "markdown",
      "metadata": {
        "id": "y_V08ygIMrJd"
      },
      "source": [
        "<h1>BNFO301 Homework Assignment #3: Consensus Sequences</h1>\n",
        "\n",
        "A consensus sequence represents the most frequent nucleotide at each position in an alignment of two or more sequences. You can think of this as finding the most common base in a position within a multiple sequence alignment. Consensus sequences can be useful for identifying and visualizing motifs in a DNA or amino acid sequence. You have been provided a FASTA file of aligned sequences. The goal of this assignment is to write a python script to read in the sequences from the file and generate the consensus sequence\n",
        "\n",
        "\n",
        "\n",
        "\n",
        "**Helpful Resources:**\n",
        "\n",
        "If you are unfamiliar with consensus sequences or would like to review, this video explains the concept: https://www.youtube.com/watch?v=4HYJILahPw4 (2:20 to 4:20 most useful). It may also be helpful to first generate the consensus sequence by hand, so that you can check the output from your script.\n",
        "\n",
        "Grading: attendance = 4 points (2 points for each meeting); problem 1 = 1 point; problem 2 = 3 points; problem 3 = 2 points.  There is a bonus question at the end worth 2 points.\n",
        "\n",
        "The assignment is to be completed in class, not outside of class.  You will have two class periods to complete the lab.  The bonus may be completed on your own between meetings."
      ]
    },
    {
      "cell_type": "markdown",
      "metadata": {
        "id": "mMbh0oaoNIEm"
      },
      "source": [
        "### Setup\n",
        "Load the Sequence Data File.  Please run this block without changing the code.\n",
        "\n",
        "File : https://raw.githubusercontent.com/MusBansal/BNFO301Data/main/Assignment3_data.fasta"
      ]
    },
    {
      "cell_type": "code",
      "metadata": {
        "id": "TMJrCsgQMp2T",
        "outputId": "db8e886c-21a8-461f-e5b3-8c41010047fb",
        "colab": {
          "base_uri": "https://localhost:8080/"
        }
      },
      "source": [
        "import os.path\n",
        "# Load the genbank file \n",
        "DATA_FILE_GITHUB = \"https://raw.githubusercontent.com/MusBansal/BNFO301Data/main/Assignment3_data.fasta\"\n",
        "DEFAULT_FILE_NAME = 'Assignment3_data.fasta'\n",
        "\n",
        "fileName = DEFAULT_FILE_NAME\n",
        "#Does the file exists locally, if not get it from the github\n",
        "if not os.path.exists(fileName):\n",
        "  #Load the file from Github to the local folder\n",
        "  !wget --no-check-certificate --content-disposition $DATA_FILE_GITHUB\n",
        "   \n"
      ],
      "execution_count": 1,
      "outputs": [
        {
          "output_type": "stream",
          "name": "stdout",
          "text": [
            "--2022-03-03 14:33:57--  https://raw.githubusercontent.com/MusBansal/BNFO301Data/main/Assignment3_data.fasta\n",
            "Resolving raw.githubusercontent.com (raw.githubusercontent.com)... 185.199.108.133, 185.199.109.133, 185.199.110.133, ...\n",
            "Connecting to raw.githubusercontent.com (raw.githubusercontent.com)|185.199.108.133|:443... connected.\n",
            "HTTP request sent, awaiting response... 200 OK\n",
            "Length: 312 [text/plain]\n",
            "Saving to: ‘Assignment3_data.fasta’\n",
            "\n",
            "\rAssignment3_data.fa   0%[                    ]       0  --.-KB/s               \rAssignment3_data.fa 100%[===================>]     312  --.-KB/s    in 0s      \n",
            "\n",
            "2022-03-03 14:33:57 (10.7 MB/s) - ‘Assignment3_data.fasta’ saved [312/312]\n",
            "\n"
          ]
        }
      ]
    },
    {
      "cell_type": "markdown",
      "metadata": {
        "id": "NgIx3OQrOCXT"
      },
      "source": [
        "###Step-1.  Create a definition to clean the FASTA formated file and add sequences into a list.  Create a second list that contains your headers (with the \">\" removed).  Your function should return both lists, not just print each list.  Finally, I suggest you create function that can print the each list.  This later function will allow you to evaluate if your dictionary contains the expected information.\n",
        "\n",
        "\n",
        "Hint, you will need to do the following:\n",
        "* We need a function to load the sequence file\n",
        "* We will load it in two lists of sequences and header names\n",
        "* Remember to strip out \">\" and \"\\n\"\n",
        "\n",
        "\n",
        "Your output should look like this:\n",
        "\n",
        "Human       GGAGAGGCTCGGAGCCGGGCCCGGACCCCGGCGATTGCCGCCCGCTTCTCT\n",
        "\n",
        "Gorilla     GGAGAGGCTCGGAGCCGGGCCCGGACCCCGGCGATTGCCGCCCGCTTCTCT\n",
        "\n",
        "Dolphin     GAGGCTC---GGAGCCGGACCTGGACCCCTGCGATAGCCGTCTG-CTCCCG\n",
        "\n",
        "Rat         GGAGCAACTAGGAACCCGAACCAGAGCCCGGCGAGCGCAGCCTGCAGCTCC\n",
        "\n",
        "Mouse       GAGGCGCCTAGGAACCCGAGCCGGAGCTCAGCGAGCGCAGCCTGCAGCTCC\n"
      ]
    },
    {
      "cell_type": "code",
      "metadata": {
        "colab": {
          "base_uri": "https://localhost:8080/"
        },
        "id": "2Vl6BmmKOWkV",
        "outputId": "925e8f93-fc2f-42d6-9c27-2228c8c0b1b7"
      },
      "source": [
        "#-----------------------------------------\n",
        "#Read in fasta and create list of sequences (sequences) and a list of sequence identifiers (seqIDs)\n",
        "#-----------------------------------------\n",
        "def ReadFile(fh):\n",
        "    file = open(fh)\n",
        "\n",
        "    with open ('Assignment3_data.fasta', 'r') as infile:\n",
        "      lines = infile.readlines()\n",
        "\n",
        "    # Initialize variables\n",
        "      \n",
        "      sequences = []  # Store sequences\n",
        "      seqIds = []  # Store sequence headers\n",
        "\n",
        "      for line in lines:\n",
        "\n",
        "         line=line.strip()\n",
        "\n",
        "         if line.startswith(\">\"):\n",
        "           line = line.lstrip(\">\")\n",
        "           line = line.strip(\"\\n\")     \n",
        "\n",
        "           seqIds.append(line)       \n",
        "\n",
        "         else:\n",
        "    \n",
        "          sequences.append(line)\n",
        "        \n",
        "            \n",
        "    return sequences, seqIds\n",
        "\n",
        "ReadFile(fileName)\n",
        "# -----------------------------\n",
        "# Create utility function to print sequences and seqIDs in an easily readable format \n",
        "# ------------------------------\n",
        "\n",
        "def seq_Format(seqIds, sequences):\n",
        "  for i in range(len(seqIds)):\n",
        "    print(seqIds[i] + \" \" + sequences[i]);\n",
        "\n",
        "Ids = ()\n",
        "sequence = ()\n",
        "sequence, Ids = ReadFile(fileName)\n",
        "seq_Format(Ids, sequence)\n",
        "\n",
        "\n",
        "\n",
        "\n",
        "\n",
        "\n"
      ],
      "execution_count": 6,
      "outputs": [
        {
          "output_type": "stream",
          "name": "stdout",
          "text": [
            " Human GGAGAGGCTCGGAGCCGGGCCCGGACCCCGGCGATTGCCGCCCGCTTCTCT\n",
            " Gorilla GGAGAGGCTCGGAGCCGGGCCCGGACCCCGGCGATTGCCGCCCGCTTCTCT\n",
            " Dolphin GAGGCTC---GGAGCCGGACCTGGACCCCTGCGATAGCCGTCTG-CTCCCG\n",
            " Rat GGAGCAACTAGGAACCCGAACCAGAGCCCGGCGAGCGCAGCCTGCAGCTCC\n",
            " Mouse GAGGCGCCTAGGAACCCGAGCCGGAGCTCAGCGAGCGCAGCCTGCAGCTCC\n"
          ]
        }
      ]
    },
    {
      "cell_type": "markdown",
      "metadata": {
        "id": "pH0HCad1_mYF"
      },
      "source": [
        "###Step-2. In this step you will build a rutine that uses nested loops to format the data in such a way that you can determine the most common base.  This is very similar to the process we discussed in lecture on pairwise alignment.  Remember to return your data.  Finally, print the first three columns of the matrix.  This you can visualize your matrix and check it for accuracy.  Functions len and range will be useful in completing this problem.\n",
        "\n",
        "\n",
        "For example, lets take the input for the first three bases in the alignment given:\n",
        "\n",
        "Human       GGA\n",
        "\n",
        "Gorilla     GGA\n",
        "\n",
        "Dolphin     GAG\n",
        "\n",
        "Rat         GGA\n",
        "\n",
        "Mouse       GAG\n",
        "\n",
        "You should return data that looks like this:  [['G', 'G', 'G', 'G', 'G'], ['G', 'G', 'A', 'G', 'A'], ['A', 'A', 'G', 'A', 'G']]"
      ]
    },
    {
      "cell_type": "code",
      "metadata": {
        "id": "wrrprj_p_sYT"
      },
      "source": [
        "from typing import Sequence\n",
        "# -----------------------------\n",
        "# Convert sequence format for easy computation\n",
        "# ------------------------------\n",
        "def maniputlateSeqs(seqs):\n",
        "    # Lengths of the aligned sequences are equal\n",
        "    # Get length of first sequence\n",
        "\n",
        "    seq_length = len(sequence(1))\n",
        "\n",
        "    # Initialize variables\n",
        "    NewlyFormatedData = []  # This will store all values at each position\n",
        "\n",
        "    # Create a list of lists using nested loops\n",
        "    # Reads fasta file as matrix\n",
        "    # Example:\n",
        "    #        ATGCA\n",
        "    #        ATGAA\n",
        "    #        TCGAT\n",
        "\n",
        "    for i in range(5):\n",
        "      NewlyFormatedData.append([])\n",
        "\n",
        "      for j in range(5):\n",
        "       NewlyFormatedData[i].append(j)\n",
        "          \n",
        "      return NewlyFormatedData\n",
        "      \n",
        "\n",
        "\n",
        "    #             Bases at index 0   Bases at index 1 ...\n",
        "    # positions = [[\"A\", \"A\", \"T\"],  [\"T\", \"T\", \"C\"], ...]]\n",
        "\n",
        "\n",
        "\n",
        "\n",
        "#print the first 3 rows\n",
        "\n",
        "\n"
      ],
      "execution_count": 8,
      "outputs": []
    },
    {
      "cell_type": "markdown",
      "metadata": {
        "id": "4E2GsDEt_8A7"
      },
      "source": [
        "###Step-3.  In this last step, you will create a function that returns a consensus sequence using the most fequent base. You will again need to use nested loops.  Functions get and max will be helpful in responding to this question.  \n",
        "\n",
        "Use the following rules:  This function should print the concensus sequence as one continuous string. \n",
        "\n",
        "1. If all bases are in agreement, return base as upper.case.  e.g. ['G', 'G', 'G', 'G', 'G'] returns G\n",
        "2. If there is an equal split between bases in a column, return \"n\".  e.g. ['G', 'G', 'A', 'A', 'A', 'G'] returns n\n",
        "3. If the the bases are not in agreement, but one base is more frequent than other, return the most frequent base in lower.case.  eg. ['G', 'G', 'G', 'G', 'A'] returns g\n",
        "\n",
        "Your output should look like this: GgaGcg?ct?GGAgCCgGacCcgGAcCcCgGCGAt?GCcGcCtGc?tCtC?\n"
      ]
    },
    {
      "cell_type": "code",
      "metadata": {
        "id": "lx3sHnCK_-LO",
        "outputId": "9d4732b5-fb22-4d05-d18b-ace4ab1e9115",
        "colab": {
          "base_uri": "https://localhost:8080/"
        }
      },
      "source": [
        "def getConsensus(NewlyFormatedData):\n",
        "    # Initialize variables\n",
        "    consensus = \"\"\n",
        "\n",
        "    # Use nested loop through each inner list\n",
        "    \n",
        "            # Get counts for each base\n",
        "           \n",
        "\n",
        "        # Get the max value\n",
        "       \n",
        "\n",
        "        # See if there are multiple keys with the max value\n",
        "        \n",
        "\n",
        "        # Calculate abundance of base at position\n",
        "        \n",
        "\n",
        "    return consensus\n",
        "\n",
        "\n",
        "#print consensus\n",
        "\n",
        "\n"
      ],
      "execution_count": null,
      "outputs": [
        {
          "output_type": "stream",
          "name": "stdout",
          "text": [
            "CONSENSUS                 GgaGcg?ct?GGAgCCgGacCcgGAcCcCgGCGAt?GCcGcCtGc?tCtC?\n",
            "\n"
          ]
        }
      ]
    },
    {
      "cell_type": "markdown",
      "metadata": {
        "id": "A1z6jSbwCxTs"
      },
      "source": [
        "###Bonus  \n",
        "One way aligned sequences are often visualized is as a sequence logo. For an additional point, go to https://weblogo.berkeley.edu/logo.cgi and upload the provided FASTA file. Save the image and upload to canvas.  You may do the bonus between class meetings on your own time."
      ]
    }
  ]
}