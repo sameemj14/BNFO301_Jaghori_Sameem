{
  "nbformat": 4,
  "nbformat_minor": 0,
  "metadata": {
    "kernelspec": {
      "display_name": "Python 3",
      "language": "python",
      "name": "python3"
    },
    "language_info": {
      "codemirror_mode": {
        "name": "ipython",
        "version": 3
      },
      "file_extension": ".py",
      "mimetype": "text/x-python",
      "name": "python",
      "nbconvert_exporter": "python",
      "pygments_lexer": "ipython3",
      "version": "3.7.4"
    },
    "colab": {
      "name": "Week4REGEX_Part2.ipynb",
      "provenance": [],
      "collapsed_sections": [],
      "include_colab_link": true
    }
  },
  "cells": [
    {
      "cell_type": "markdown",
      "metadata": {
        "id": "view-in-github",
        "colab_type": "text"
      },
      "source": [
        "<a href=\"https://colab.research.google.com/github/sameemj14/BNFO301_Jaghori_Sameem/blob/main/Week4REGEX_Part2.ipynb\" target=\"_parent\"><img src=\"https://colab.research.google.com/assets/colab-badge.svg\" alt=\"Open In Colab\"/></a>"
      ]
    },
    {
      "cell_type": "markdown",
      "metadata": {
        "id": "CV8ltn7IuWLR"
      },
      "source": [
        "<h1>BNFO301 Lab Assignment Regex part 2: Continutation of Python Regex Module</h1>\n",
        "\n",
        "This week's assignment is designed to refresh, teach and, test your knowledge of the basics of Python regex module functions and capabilities. This week we will take it further. Students will apply regex basics to finding degenerate primers.\n",
        "\n",
        "**Helpful Resources:**\n",
        "1. Re (Regex) documentation- https://docs.python.org/3/library/re.html\n",
        "2. Handy tool to build/test regular expression - https://regex101.com/ \n",
        "3. Tutorial - http://justinbois.github.io/bootcamp/2015/lessons/l16_regular_expressions.html\n",
        "\n",
        "Grading: attendance = 4 points; question 1 = 6 points"
      ]
    },
    {
      "cell_type": "markdown",
      "metadata": {
        "id": "CM7DEBptKwuv"
      },
      "source": [
        "### Part 0- Setup (Provided code)\n",
        "Read the Genbank Sample Data File "
      ]
    },
    {
      "cell_type": "code",
      "metadata": {
        "id": "gjQcjXJLuWLV",
        "outputId": "d0e5304d-f999-4d1d-aca9-cbdaae81054c",
        "colab": {
          "base_uri": "https://localhost:8080/"
        }
      },
      "source": [
        "import re # python regex module\n",
        "import os.path\n",
        "\n",
        "#Read the sequence file\n",
        "DATA_FILE_GITHUB = \"https://raw.githubusercontent.com/MusBansal/BNFO301Data/main/primersequencewhole.txt\"\n",
        "DEFAULT_FILE_NAME = 'primersequencewhole.txt'\n",
        "\n",
        "fileName = DEFAULT_FILE_NAME\n",
        "#Does the file exists locally, if not get it from the github\n",
        "if not os.path.exists(fileName):\n",
        "  #Load the file from Github to the local folder\n",
        "  !wget --no-check-certificate --content-disposition $DATA_FILE_GITHUB\n",
        "   \n",
        "print(\"Reading file:\", fileName)"
      ],
      "execution_count": 1,
      "outputs": [
        {
          "output_type": "stream",
          "name": "stdout",
          "text": [
            "--2022-02-17 14:51:47--  https://raw.githubusercontent.com/MusBansal/BNFO301Data/main/primersequencewhole.txt\n",
            "Resolving raw.githubusercontent.com (raw.githubusercontent.com)... 185.199.109.133, 185.199.108.133, 185.199.110.133, ...\n",
            "Connecting to raw.githubusercontent.com (raw.githubusercontent.com)|185.199.109.133|:443... connected.\n",
            "HTTP request sent, awaiting response... 200 OK\n",
            "Length: 582665 (569K) [text/plain]\n",
            "Saving to: ‘primersequencewhole.txt’\n",
            "\n",
            "\rprimersequencewhole   0%[                    ]       0  --.-KB/s               \rprimersequencewhole 100%[===================>] 569.01K  --.-KB/s    in 0.05s   \n",
            "\n",
            "2022-02-17 14:51:48 (10.5 MB/s) - ‘primersequencewhole.txt’ saved [582665/582665]\n",
            "\n",
            "Reading file: primersequencewhole.txt\n"
          ]
        }
      ]
    },
    {
      "cell_type": "markdown",
      "metadata": {
        "id": "wh0WbFnMqadD"
      },
      "source": [
        "### Q 1. Testing degenerative primers: <br>\n",
        "<br>\n",
        "PCR is a commonly used tool to isolate short regions of a genome.  PCR requires the use of primers, short sequences of DNA that bind to specific sites in a genome.  It is important to test primers, to determine if they will bind to more than one site in a genome.  Here you will use regex to identify matches to each of the four primers.  Please note that the primers are degenerate, which means that the primer will be mixed (e.g. some primers may have an A at a given site, while the others of a C)  You will be provided with a fasta file.  Please examine this file carefully to determine if you need to remove new line characters before identifying primer matches.\n",
        "\n",
        "* M-1B, 5′-agagtttgatmcacc-3′ (M -> A or C)\n",
        "* M-2B, 5′-ctgctgcsycc-3′ (Y -> C or T), (S -> G or C) \n",
        "* M-3B, 5′-gcaacgaa3′\n",
        "* M-4B, 5′-ggcggtgtgtrc-3′ (R->A or G)\n",
        "\n",
        "<br>\n",
        "For reference, **this is what your output should look like** : you should get 1,2,5,2 matches respectively to each primer"
      ]
    },
    {
      "cell_type": "code",
      "metadata": {
        "id": "WZspvd_KypM9",
        "outputId": "91899a9f-f500-4b8d-b52b-406a44e7b3f7",
        "colab": {
          "base_uri": "https://localhost:8080/",
          "height": 130
        }
      },
      "source": [
        "#create function to remove header lines using regex (\"that starts with >\")\n",
        "\n",
        "######################\n",
        "def removeHeaders(data):\n",
        "  #create a pattern to match headers\n",
        "  pattern = '^>.*\\n'\n",
        "\n",
        "  # Compile a search string\n",
        "  regex = re.compile(pattern)\n",
        "  return regex\n",
        "\n",
        "\n",
        "######################\n",
        "\n",
        "\n",
        "# Read in the file using with \n",
        "with open ('primersequencewhole.txt') as infile:\n",
        "  headers = infile.read()\n",
        "\n",
        "#remove headers\n",
        "my_input = removeHeaders(headers)\n",
        "\n",
        "\n",
        "#Since the file contains newlines, remove all the newlines\n",
        "#this pattern should look for all the newline/tabs etc.\n",
        "\n",
        "pattern = '\\n\\t\\s'\n",
        "\n",
        "# Compile our search string\n",
        "#positive_residues = re.compile('[rkh]')\n",
        "\n",
        "\n",
        "# Get a list of all the sequences\n",
        "list_of_seq_segments = \n",
        "\n",
        "# output\n",
        "output = \n",
        "\n",
        "\n",
        "\n",
        "\n",
        "#create function to find the primers, count how many times they match and where they match\n",
        "def findSequences(pattern,data):\n",
        "  count = 0\n",
        "  #use finditer to identify matches and their locations, along with counting the total number of matches for each primer\n",
        "  \n",
        "    # Start index of match (integer)\n",
        "    sStart = \n",
        "\n",
        "    # Final index of match (integer)\n",
        "    sEnd = \n",
        "\n",
        "    # Complete match (string)\n",
        "    sGroup = \n",
        "\n",
        "    # Print match\n",
        "    \n",
        "  return count\n",
        "\n",
        "# Set up your primer patterns\n",
        "\n",
        "#1. Finding the pattern \"agagtttgatmcacc\"\n",
        "#(?i) - ignores the case, m can be a or c -> [ac]\n",
        "pattern = \n",
        "findSequences(pattern,output)\n",
        "\n",
        "#2. Finding the pattern \"ctgctgcsycc\" \n",
        "#y can be c or t -> [ct]\n",
        "pattern = \n",
        "findSequences(pattern,output)\n",
        "\n",
        "#3. Finding the pattern \"gcaacgaa\" \n",
        "pattern = \n",
        "findSequences(pattern,output)\n",
        "\n",
        "#4. Finding the pattern \"(?i)ggcggtgtgt[ag]c\" \n",
        "#r can be a or g -> [ag]\n",
        "pattern = \n",
        "findSequences(pattern,output)\n",
        "\n"
      ],
      "execution_count": 3,
      "outputs": [
        {
          "output_type": "error",
          "ename": "SyntaxError",
          "evalue": "ignored",
          "traceback": [
            "\u001b[0;36m  File \u001b[0;32m\"<ipython-input-3-584c3edc84bc>\"\u001b[0;36m, line \u001b[0;32m25\u001b[0m\n\u001b[0;31m    pattern =\u001b[0m\n\u001b[0m              ^\u001b[0m\n\u001b[0;31mSyntaxError\u001b[0m\u001b[0;31m:\u001b[0m invalid syntax\n"
          ]
        }
      ]
    }
  ]
}